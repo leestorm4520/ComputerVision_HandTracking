{
 "cells": [
  {
   "cell_type": "code",
   "execution_count": 2,
   "metadata": {},
   "outputs": [
    {
     "name": "stdout",
     "output_type": "stream",
     "text": [
      "Requirement already satisfied: mediapipe in /Users/johnle/opt/anaconda3/lib/python3.8/site-packages (0.8.10)\n",
      "Requirement already satisfied: absl-py in /Users/johnle/opt/anaconda3/lib/python3.8/site-packages (from mediapipe) (1.0.0)\n",
      "Requirement already satisfied: opencv-contrib-python in /Users/johnle/opt/anaconda3/lib/python3.8/site-packages (from mediapipe) (4.5.5.64)\n",
      "Requirement already satisfied: protobuf>=3.11.4 in /Users/johnle/opt/anaconda3/lib/python3.8/site-packages (from mediapipe) (3.19.1)\n",
      "Requirement already satisfied: attrs>=19.1.0 in /Users/johnle/opt/anaconda3/lib/python3.8/site-packages (from mediapipe) (20.3.0)\n",
      "Requirement already satisfied: matplotlib in /Users/johnle/opt/anaconda3/lib/python3.8/site-packages (from mediapipe) (3.3.4)\n",
      "Requirement already satisfied: numpy in /Users/johnle/opt/anaconda3/lib/python3.8/site-packages (from mediapipe) (1.20.1)\n",
      "Requirement already satisfied: six in /Users/johnle/opt/anaconda3/lib/python3.8/site-packages (from absl-py->mediapipe) (1.15.0)\n",
      "Requirement already satisfied: cycler>=0.10 in /Users/johnle/opt/anaconda3/lib/python3.8/site-packages (from matplotlib->mediapipe) (0.10.0)\n",
      "Requirement already satisfied: kiwisolver>=1.0.1 in /Users/johnle/opt/anaconda3/lib/python3.8/site-packages (from matplotlib->mediapipe) (1.3.1)\n",
      "Requirement already satisfied: pillow>=6.2.0 in /Users/johnle/opt/anaconda3/lib/python3.8/site-packages (from matplotlib->mediapipe) (8.2.0)\n",
      "Requirement already satisfied: python-dateutil>=2.1 in /Users/johnle/opt/anaconda3/lib/python3.8/site-packages (from matplotlib->mediapipe) (2.8.1)\n",
      "Requirement already satisfied: pyparsing!=2.0.4,!=2.1.2,!=2.1.6,>=2.0.3 in /Users/johnle/opt/anaconda3/lib/python3.8/site-packages (from matplotlib->mediapipe) (2.4.7)\n",
      "Note: you may need to restart the kernel to use updated packages.\n"
     ]
    }
   ],
   "source": [
    "pip install mediapipe #Google's open-source framework, used for media processing."
   ]
  },
  {
   "cell_type": "code",
   "execution_count": 3,
   "metadata": {},
   "outputs": [],
   "source": [
    "import cv2\n",
    "import time\n",
    "import mediapipe as mp"
   ]
  },
  {
   "cell_type": "code",
   "execution_count": 6,
   "metadata": {},
   "outputs": [],
   "source": [
    "#find the hands on the camera\n",
    "mpHands=mp.solutions.hands\n",
    "hands=mpHands.Hands()\n",
    "mpDraw=mp.solutions.drawing_utils"
   ]
  },
  {
   "cell_type": "code",
   "execution_count": 11,
   "metadata": {},
   "outputs": [],
   "source": [
    "pTime=0\n",
    "cTime=0"
   ]
  },
  {
   "cell_type": "code",
   "execution_count": 15,
   "metadata": {},
   "outputs": [
    {
     "ename": "",
     "evalue": "",
     "output_type": "error",
     "traceback": [
      "\u001b[1;31mThe Kernel crashed while executing code in the the current cell or a previous cell. Please review the code in the cell(s) to identify a possible cause of the failure. Click <a href='https://aka.ms/vscodeJupyterKernelCrash'>here</a> for more info. View Jupyter <a href='command:jupyter.viewOutput'>log</a> for further details."
     ]
    }
   ],
   "source": [
    "# define a video capture object\n",
    "vid = cv2.VideoCapture(0)\n",
    "  \n",
    "while(True):\n",
    "      \n",
    "    # Capture the video frame\n",
    "    # by frame\n",
    "    ret, img= vid.read()\n",
    "    imgRGB= cv2.cvtColor(img, cv2.COLOR_BGR2RGB)\n",
    "    results=hands.process(imgRGB)\n",
    "    if(results.multi_hand_landmarks):\n",
    "        for handLM in results.multi_hand_landmarks:\n",
    "            for id, lm in enumerate(handLM.landmark):\n",
    "                #print(id+\"\\n\"+lm)\n",
    "                h,w,c=img.shape \n",
    "                cx,cy=int(lm.x*w), int(lm.y*h) #find the postion of the landmark\n",
    "                #if id==0:\n",
    "                 #   cv2.circle(img,(cx,cy),25,(57,255,20),cv2.FILLED)\n",
    "            mpDraw.draw_landmarks(img, handLM, mpHands.HAND_CONNECTIONS)\n",
    "\n",
    "    cTime=time.time()\n",
    "    fps=1/(cTime-pTime)\n",
    "    pTime=cTime\n",
    "    cv2.putText(img, str(int(fps)), (10,70),cv2.FONT_HERSHEY_COMPLEX,3, (57,255,20),3)\n",
    "    # Display the resulting frame\n",
    "    cv2.imshow('Image', img)\n",
    "      \n",
    "    # the 'q' button is set as the\n",
    "    # quitting button you may use any\n",
    "    # desired button of your choice\n",
    "    if cv2.waitKey(1) & 0xFF == ord('q'):\n",
    "        break\n",
    "  \n",
    "# After the loop release the cap object\n",
    "vid.release()\n",
    "# Destroy all the windows\n",
    "cv2.destroyAllWindows()"
   ]
  },
  {
   "cell_type": "code",
   "execution_count": null,
   "metadata": {},
   "outputs": [],
   "source": []
  }
 ],
 "metadata": {
  "interpreter": {
   "hash": "239cb7fc9731e4df25ece2866ba3dd451602c54f45b10713ba25f19b8523c020"
  },
  "kernelspec": {
   "display_name": "Python 3.8.8 ('base')",
   "language": "python",
   "name": "python3"
  },
  "language_info": {
   "codemirror_mode": {
    "name": "ipython",
    "version": 3
   },
   "file_extension": ".py",
   "mimetype": "text/x-python",
   "name": "python",
   "nbconvert_exporter": "python",
   "pygments_lexer": "ipython3",
   "version": "3.8.8"
  },
  "orig_nbformat": 4
 },
 "nbformat": 4,
 "nbformat_minor": 2
}
