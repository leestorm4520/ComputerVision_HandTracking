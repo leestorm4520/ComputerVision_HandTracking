{
 "cells": [
  {
   "cell_type": "code",
   "execution_count": 1,
   "metadata": {},
   "outputs": [
    {
     "name": "stdout",
     "output_type": "stream",
     "text": [
      "Collecting mediapipe\n",
      "  Downloading mediapipe-0.8.10-cp38-cp38-macosx_10_15_x86_64.whl (33.6 MB)\n",
      "\u001b[K     |████████████████████████████████| 33.6 MB 8.8 MB/s eta 0:00:01\n",
      "\u001b[?25hRequirement already satisfied: attrs>=19.1.0 in /Users/johnle/opt/anaconda3/lib/python3.8/site-packages (from mediapipe) (20.3.0)\n",
      "Collecting opencv-contrib-python\n",
      "  Downloading opencv_contrib_python-4.5.5.64-cp36-abi3-macosx_10_15_x86_64.whl (55.9 MB)\n",
      "\u001b[K     |████████████████████████████████| 55.9 MB 7.6 MB/s eta 0:00:01\n",
      "\u001b[?25hRequirement already satisfied: protobuf>=3.11.4 in /Users/johnle/opt/anaconda3/lib/python3.8/site-packages (from mediapipe) (3.19.1)\n",
      "Requirement already satisfied: numpy in /Users/johnle/opt/anaconda3/lib/python3.8/site-packages (from mediapipe) (1.20.1)\n",
      "Requirement already satisfied: absl-py in /Users/johnle/opt/anaconda3/lib/python3.8/site-packages (from mediapipe) (1.0.0)\n",
      "Requirement already satisfied: matplotlib in /Users/johnle/opt/anaconda3/lib/python3.8/site-packages (from mediapipe) (3.3.4)\n",
      "Requirement already satisfied: six in /Users/johnle/opt/anaconda3/lib/python3.8/site-packages (from absl-py->mediapipe) (1.15.0)\n",
      "Requirement already satisfied: pyparsing!=2.0.4,!=2.1.2,!=2.1.6,>=2.0.3 in /Users/johnle/opt/anaconda3/lib/python3.8/site-packages (from matplotlib->mediapipe) (2.4.7)\n",
      "Requirement already satisfied: kiwisolver>=1.0.1 in /Users/johnle/opt/anaconda3/lib/python3.8/site-packages (from matplotlib->mediapipe) (1.3.1)\n",
      "Requirement already satisfied: cycler>=0.10 in /Users/johnle/opt/anaconda3/lib/python3.8/site-packages (from matplotlib->mediapipe) (0.10.0)\n",
      "Requirement already satisfied: python-dateutil>=2.1 in /Users/johnle/opt/anaconda3/lib/python3.8/site-packages (from matplotlib->mediapipe) (2.8.1)\n",
      "Requirement already satisfied: pillow>=6.2.0 in /Users/johnle/opt/anaconda3/lib/python3.8/site-packages (from matplotlib->mediapipe) (8.2.0)\n",
      "Installing collected packages: opencv-contrib-python, mediapipe\n",
      "Successfully installed mediapipe-0.8.10 opencv-contrib-python-4.5.5.64\n",
      "Note: you may need to restart the kernel to use updated packages.\n"
     ]
    }
   ],
   "source": [
    "pip install mediapipe\n"
   ]
  },
  {
   "cell_type": "code",
   "execution_count": null,
   "metadata": {},
   "outputs": [],
   "source": []
  }
 ],
 "metadata": {
  "interpreter": {
   "hash": "239cb7fc9731e4df25ece2866ba3dd451602c54f45b10713ba25f19b8523c020"
  },
  "kernelspec": {
   "display_name": "Python 3.8.8 ('base')",
   "language": "python",
   "name": "python3"
  },
  "language_info": {
   "codemirror_mode": {
    "name": "ipython",
    "version": 3
   },
   "file_extension": ".py",
   "mimetype": "text/x-python",
   "name": "python",
   "nbconvert_exporter": "python",
   "pygments_lexer": "ipython3",
   "version": "3.8.8"
  },
  "orig_nbformat": 4
 },
 "nbformat": 4,
 "nbformat_minor": 2
}
